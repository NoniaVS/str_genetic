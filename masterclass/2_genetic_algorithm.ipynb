{
 "cells": [
  {
   "cell_type": "markdown",
   "metadata": {},
   "source": [
    "# Genetic Algorithm\n",
    "\n",
    "I will explore here the concept of genetic algorithm. The idea is very simple, we design an algorithm that can reproduce a genetic evolution (survival of the fittest) which would evolve into a dna able to reproduce the expected behaviour. There are several parts of a genetic algorithm that are compulsory.\n",
    "\n",
    "- Genetic algorithm\n",
    "  - DNA structure\n",
    "  - Population and Peasant\n",
    "  - Fitness function\n",
    "  - Crossover\n",
    "  - Mutation"
   ]
  },
  {
   "cell_type": "markdown",
   "metadata": {},
   "source": [
    "## DNA structure\n",
    "\n",
    "It is as straightforwards as it looks like. The DNA is the information regarding the peasant in the population that will rule its behaviour. It can be as complex as determining the number of nodes or layers in a Neural Network or as simple as beeing a number between 0 and 1. No matter the complexity or the meaning of the DNA it has to fullfill three requirements to be considered a Genetic Algorithm DNA\n",
    "\n",
    "- Interchangable\n",
    "- Mixable\n",
    "- Mutable\n",
    "\n",
    "It is clear. I must be able to change two DNAs from peasants and the algorithm must work. I must be able to mix two DNAs to form at least one new DNA. And I must be able to mutate a single gen of the DNA and the previous two rules must not be affected."
   ]
  },
  {
   "cell_type": "markdown",
   "metadata": {},
   "source": [
    "For example, it I have a DNA that describes the sequence of 0s and 1s I should be able to fullfill the three rules.\n",
    "\n",
    "DNA_1 = \"0100110\"   -> Sum : 3\n",
    "\n",
    "DNA_2 = \"1111000\"   -> Sum : 4\n",
    "\n",
    "### Interchangeable\n",
    "\n",
    "DNA_1 = \"1111000\"   -> Sum : 4\n",
    "\n",
    "DNA_2 = \"0100110\"   -> Sum : 3\n",
    "\n",
    "### Mixable\n",
    "\n",
    "DNA_3 = \"1111110\"   -> Sum : 6\n",
    "\n",
    "### Mutable\n",
    "\n",
    "DNA_3 = \"1011110\"   -> Sum : 5\n",
    "\n",
    "It is a very easy example, but enough to understand what is a DNA."
   ]
  },
  {
   "cell_type": "markdown",
   "metadata": {},
   "source": [
    "## Population and Peasant\n",
    "\n",
    "The population is the collection of Peasants. This class should have all the methods that involve the collection of Peasants such as generation of a population, crossover ... as well as record information of the current population such as fitness values, mean error value, number of Peasants above a threshold... This class is very flexible and sometimes it can be ommited. \n",
    "\n",
    "Personally, I usually do not code this class and all the functionally that the Population should have I transfer it to the Genetic Algorithm class. However these are preferences and abstraction level."
   ]
  },
  {
   "cell_type": "markdown",
   "metadata": {},
   "source": [
    "On the other hand, the Peasant is the class that will hold information regarding the DNA, mutation function, fitness function... It is also possible to transfer all this functionality to the main Genetic Algorithm class but I would avoid doing so. It is not healthy to give all the resposability to one class, divide and conquer they say..."
   ]
  },
  {
   "cell_type": "markdown",
   "metadata": {},
   "source": [
    "## Fitness function\n",
    "\n",
    "This is the function that will calculate an error for each peasant. It can be as complex as your DNA. It we have a DNA that describes the shape of a Neural Network, then, the fitness function will run the Neural Network and obtain a result which will use to get an error. For something more simple (with the example of 0s and 1s) we could describe a fitness function which converst the DNA to integers and sum over them.\n",
    "\n",
    "DNA = \"0010011\"\n",
    "\n",
    "```python\n",
    "import numpy as np\n",
    "\n",
    "class IntegerSum (object):\n",
    "\n",
    "    def __init__ (self):\n",
    "        pass\n",
    "\n",
    "    def get_fitness(self, _peasant):\n",
    "        converted_dna = np.array([int(gen) for gen in _peasant.dna])\n",
    "        self.__fitness = np.abs(np.sum(converted_dna) - converted_dna.shape[0])\n",
    "\n",
    "        return self.__fitness\n",
    "```"
   ]
  },
  {
   "cell_type": "markdown",
   "metadata": {},
   "source": [
    "In this code, if we call get_fitness function from Peasant with DNA = \"0010011\" it would return us 3. Let's test it."
   ]
  },
  {
   "cell_type": "code",
   "execution_count": 1,
   "metadata": {},
   "outputs": [
    {
     "name": "stdout",
     "output_type": "stream",
     "text": [
      "Fitness of P1 with DNA 0010011 = 4\n"
     ]
    }
   ],
   "source": [
    "import numpy as np\n",
    "from copy import deepcopy\n",
    "\n",
    "class IntegerSum (object):\n",
    "\n",
    "    def __init__ (self):\n",
    "        pass\n",
    "\n",
    "    def evaluate_peasant(self, _peasant):\n",
    "        converted_dna = np.array([int(gen) for gen in _peasant.dna])\n",
    "        _peasant.fitness = np.abs(np.sum(converted_dna) - converted_dna.shape[0])\n",
    "        \n",
    "    \n",
    "# This is a temporal Peasant\n",
    "class Peasant (object):\n",
    "    \n",
    "    def __init__(self, **kwargs):\n",
    "        self.__dna = kwargs[\"dna\"]\n",
    "        self.__fitness = None\n",
    "        \n",
    "    @property\n",
    "    def dna(self):\n",
    "        return deepcopy(self.__dna) # Don't trust Python\n",
    "    \n",
    "    @property\n",
    "    def fitness(self):\n",
    "        return self.__fitness\n",
    "    \n",
    "    @fitness.setter\n",
    "    def fitness(self, value):\n",
    "        self.__fitness = value\n",
    "    \n",
    "\n",
    "p_1 = Peasant(dna = \"0010011\")\n",
    "fitness_function = IntegerSum()\n",
    "\n",
    "fitness_function.evaluate_peasant(p_1)\n",
    "\n",
    "print(f\"Fitness of P1 with DNA {p_1.dna} = {p_1.fitness}\")"
   ]
  },
  {
   "cell_type": "markdown",
   "metadata": {},
   "source": [
    "## Crossover\n",
    "\n",
    "This can be very simple or very complex. The most simple crossover between two Peasants is to cut their DNA and mix them which is called the one_point_crossover. The main function would be the following one"
   ]
  },
  {
   "cell_type": "code",
   "execution_count": 12,
   "metadata": {},
   "outputs": [
    {
     "name": "stdout",
     "output_type": "stream",
     "text": [
      "Iter 0 : DNA 0111000\n",
      "Iter 1 : DNA 1111000\n",
      "Iter 2 : DNA 0010010\n",
      "Iter 3 : DNA 0011000\n",
      "Iter 4 : DNA 0010000\n",
      "Iter 5 : DNA 0011000\n",
      "Iter 6 : DNA 0010010\n",
      "Iter 7 : DNA 0111000\n",
      "Iter 8 : DNA 0011000\n",
      "Iter 9 : DNA 0010000\n"
     ]
    }
   ],
   "source": [
    "import numpy as np\n",
    "from copy import deepcopy\n",
    "\n",
    "class OnePointCrossover(object):\n",
    "    \n",
    "    def __init__(self):\n",
    "        pass\n",
    "    \n",
    "    def generate_peasant(self, _p1, _p2):\n",
    "        assert (len(_p1.dna) == len(_p2.dna)) # Check\n",
    "        r = np.random.choice(len(_p1.dna))\n",
    "        dna = p_1.dna[:r] + p_2.dna[r:]\n",
    "        \n",
    "        return dna\n",
    "\n",
    "\n",
    "# This is a temporal Peasant\n",
    "class Peasant (object):\n",
    "    \n",
    "    def __init__(self, **kwargs):\n",
    "        self.__dna = kwargs[\"dna\"]\n",
    "        self.__fitness = None\n",
    "        \n",
    "    @property\n",
    "    def dna(self):\n",
    "        return deepcopy(self.__dna) # Don't trust Python\n",
    "    \n",
    "    @property\n",
    "    def fitness(self):\n",
    "        return self.__fitness\n",
    "    \n",
    "    @fitness.setter\n",
    "    def fitness(self, value):\n",
    "        self.__fitness = value\n",
    "    \n",
    "\n",
    "p_1 = Peasant(dna = \"0010011\")\n",
    "p_2 = Peasant(dna = \"1111000\")\n",
    "crossover = OnePointCrossover()\n",
    "\n",
    "# Begin loop of new peasants\n",
    "for ii in range(10):\n",
    "    offspring_dna = crossover.generate_peasant(p_1, p_2)\n",
    "    p_3 = Peasant(dna = offspring_dna)\n",
    "    \n",
    "    print(f\"Iter {ii} : DNA {p_3.dna}\")"
   ]
  },
  {
   "cell_type": "markdown",
   "metadata": {},
   "source": [
    "The objective of the crossover it to generate a new DNA from two parents' DNAs. The method or technique to do so can be whatever the programmer decides that is suitable for the algorithm."
   ]
  },
  {
   "cell_type": "markdown",
   "metadata": {},
   "source": [
    "## Mutation\n",
    "\n",
    "It is very self explanatory. The mutator function takes an input DNA and, randomly, performs some kind of mutation in the DNA. This mutation should be somewhat relevant in the possible behaviour of the Peasant but still make it functional. Similar to Machine Learning models, this mutator avoid overfitting of the model. In a Genetic Algorithm, the mutator add some randomness to allow new possibilities. I will show you two examples of mutators"
   ]
  },
  {
   "cell_type": "code",
   "execution_count": 65,
   "metadata": {},
   "outputs": [
    {
     "name": "stdout",
     "output_type": "stream",
     "text": [
      "One Gen Mutator\n",
      "\n",
      "Iter 0 : DNA 0000011\n",
      "Iter 1 : DNA 0010011\n",
      "Iter 2 : DNA 0110011\n",
      "Iter 3 : DNA 0010111\n",
      "Iter 4 : DNA 0010011\n",
      "Iter 5 : DNA 0011011\n",
      "Iter 6 : DNA 0010011\n",
      "Iter 7 : DNA 1010011\n",
      "Iter 8 : DNA 0010011\n",
      "Iter 9 : DNA 0010011\n",
      "\n",
      "Two Gen Mutator\n",
      "\n",
      "Iter 0 : DNA 0010011\n",
      "Iter 1 : DNA 1000011\n",
      "Iter 2 : DNA 0110010\n",
      "Iter 3 : DNA 0110001\n",
      "Iter 4 : DNA 0010101\n",
      "Iter 5 : DNA 1010010\n",
      "Iter 6 : DNA 0001011\n",
      "Iter 7 : DNA 0010011\n",
      "Iter 8 : DNA 0010011\n",
      "Iter 9 : DNA 0011001\n"
     ]
    }
   ],
   "source": [
    "import numpy as np\n",
    "from copy import deepcopy\n",
    "\n",
    "class OneGenMutator(object):\n",
    "    \n",
    "    def __init__(self):\n",
    "        pass\n",
    "    \n",
    "    def mutate_peasant(self, _peasant):\n",
    "        r = np.random.choice(len(_peasant.dna))\n",
    "        dna = _peasant.dna[:r] if r != 0 else \"\"\n",
    "        dna += str(np.random.choice([0,1]))\n",
    "        dna += _peasant.dna[r+1:] if r+1 < len(_peasant.dna) else \"\"\n",
    "        _peasant.dna = dna\n",
    "\n",
    "\n",
    "class TwoGenSwapMutator(object):\n",
    "    \n",
    "    def __init__(self):\n",
    "        pass\n",
    "    \n",
    "    def mutate_peasant(self, _peasant):\n",
    "        r = np.random.choice(len(_peasant.dna), 2, False)\n",
    "        if r[0] > r[1]:\n",
    "            r = r[[1,0]]\n",
    "        \n",
    "        dna = _peasant.dna[:r[0]]\n",
    "        dna += _peasant.dna[r[1]]\n",
    "        dna += _peasant.dna[r[0]+1:r[1]]\n",
    "        dna += _peasant.dna[r[0]]\n",
    "        dna += _peasant.dna[r[1]+1:]\n",
    "            \n",
    "        _peasant.dna = dna\n",
    "\n",
    "\n",
    "# This is a temporal Peasant\n",
    "class Peasant (object):\n",
    "    \n",
    "    def __init__(self, **kwargs):\n",
    "        self.__dna = kwargs[\"dna\"]\n",
    "        self.__fitness = None\n",
    "        \n",
    "    @property\n",
    "    def dna(self):\n",
    "        return deepcopy(self.__dna) # Don't trust Python\n",
    "    \n",
    "    @dna.setter\n",
    "    def dna(self, value):\n",
    "        self.__dna = value\n",
    "    \n",
    "    @property\n",
    "    def fitness(self):\n",
    "        return self.__fitness\n",
    "    \n",
    "    @fitness.setter\n",
    "    def fitness(self, value):\n",
    "        self.__fitness = value\n",
    "    \n",
    "\n",
    "p_1 = Peasant(dna = \"0010011\")\n",
    "one_gen_mut = OneGenMutator()\n",
    "two_gen_swap_mut = TwoGenSwapMutator()\n",
    "\n",
    "print(\"One Gen Mutator\\n\")\n",
    "# Begin loop of OneGenMutator\n",
    "for ii in range(10):\n",
    "    p_aux = deepcopy(p_1)   # Again, use deepcopy and never trust python\n",
    "    one_gen_mut.mutate_peasant(p_aux)\n",
    "    \n",
    "    print(f\"Iter {ii} : DNA {p_aux.dna}\")\n",
    "\n",
    "print(\"\\nTwo Gen Mutator\\n\")\n",
    "# Begin loop of TwoGenMutator\n",
    "for ii in range(10):\n",
    "    p_aux = deepcopy(p_1)   # Again, use deepcopy and never trust python\n",
    "    two_gen_swap_mut.mutate_peasant(p_aux)\n",
    "    \n",
    "    print(f\"Iter {ii} : DNA {p_aux.dna}\")"
   ]
  },
  {
   "cell_type": "code",
   "execution_count": null,
   "metadata": {},
   "outputs": [],
   "source": []
  }
 ],
 "metadata": {
  "kernelspec": {
   "display_name": "PQchem",
   "language": "python",
   "name": "python3"
  },
  "language_info": {
   "codemirror_mode": {
    "name": "ipython",
    "version": 3
   },
   "file_extension": ".py",
   "mimetype": "text/x-python",
   "name": "python",
   "nbconvert_exporter": "python",
   "pygments_lexer": "ipython3",
   "version": "3.10.12"
  }
 },
 "nbformat": 4,
 "nbformat_minor": 2
}
