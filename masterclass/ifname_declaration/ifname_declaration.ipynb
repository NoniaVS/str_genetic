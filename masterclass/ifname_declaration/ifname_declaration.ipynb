{
 "cells": [
  {
   "cell_type": "markdown",
   "metadata": {},
   "source": [
    "# Ifname Declaration\n",
    "\n",
    "It is very important to understand why\n",
    "```python\n",
    "if __name__ == \"__main__\":\n",
    "```\n",
    "is declared in all the files we want to execute externally and internally for testing.\n",
    "\n",
    "The main objective of this statement is to separate the code between the global execution scope and a local execution scope.\n",
    "In other words, this statement tells the interpreter _\"whatever it is in this if statement only can be executed if this file is\n",
    "executed. But do not execute it if this file is imported elsewhere\"_."
   ]
  },
  {
   "cell_type": "markdown",
   "metadata": {},
   "source": [
    "We can easily test this behaviour with the following example:\n",
    "\n",
    "I want to make a function to add two integers in another file to be imported from many places. However, I want to be able to test the function whevener I change something or add a new feature.\n",
    "\n",
    "In the files _path:./ifname_function_if.py_ and _path:./ifname_function_noif.py_ I declared the same function with the same test to check the correctness of the function. In one of them (\\*\\_if.py) I have declared the if statement to wrap the test inside the local scope and in (\\*\\_noif.py) I ommited this statement.\n",
    "\n",
    "To test the problem with these two methods I wrote another script _path:./ifname_main.py_ where we can see the results. I encourage you to read the file and test it below."
   ]
  },
  {
   "cell_type": "code",
   "execution_count": 1,
   "metadata": {},
   "outputs": [
    {
     "name": "stdout",
     "output_type": "stream",
     "text": [
      "Import ifname_function_if\n",
      "Perform test\n",
      "Result file ifname_function_if.py : 18\n",
      "\n",
      "Import ifname_function_noif\n",
      "Test passed!\n",
      "Perform test\n",
      "Result file ifname_function_noif.py : 18\n",
      "\n"
     ]
    }
   ],
   "source": [
    "from ifname_main import ifname_test\n",
    "\n",
    "ifname_test()"
   ]
  },
  {
   "cell_type": "markdown",
   "metadata": {},
   "source": [
    "We can check that when we import the _add\\_int_ function from _ifname_function_noif.py_ file, we print __Test passed!__.\n",
    "This is the result of not declaring \n",
    "```python\n",
    "if __name__ == \"__main__\":\n",
    "```\n",
    "to restrict the scope of the test. Therefore, to implement this feature in the _path:str_genetic/main.py_ file I suggest the following code:"
   ]
  },
  {
   "cell_type": "markdown",
   "metadata": {},
   "source": [
    "\n",
    "```diff\n",
    "   from src.Workers import Workers\n",
    "   from src.GeneticAlgorithm import genetic_algorithm\n",
    "\n",
    "+  if __name__ == \"__main__\":\n",
    "      amount = int(input(\"Enter the number of workers you want at the beginning: \"))\n",
    "      # ... Everything else ...\n",
    "```"
   ]
  },
  {
   "cell_type": "markdown",
   "metadata": {},
   "source": []
  }
 ],
 "metadata": {
  "kernelspec": {
   "display_name": "PQchem",
   "language": "python",
   "name": "python3"
  },
  "language_info": {
   "codemirror_mode": {
    "name": "ipython",
    "version": 3
   },
   "file_extension": ".py",
   "mimetype": "text/x-python",
   "name": "python",
   "nbconvert_exporter": "python",
   "pygments_lexer": "ipython3",
   "version": "3.10.12"
  }
 },
 "nbformat": 4,
 "nbformat_minor": 2
}
