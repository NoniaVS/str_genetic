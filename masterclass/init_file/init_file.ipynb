{
 "cells": [
  {
   "cell_type": "markdown",
   "metadata": {},
   "source": [
    "# \\_\\_init\\_\\_.py file\n",
    "\n",
    "There is no much mistery in this files. You can leave them empty as if there was nothing inside the folder or you can import different things and change their name.\n",
    "\n",
    "For example, in this directory we have two subdirectories\n",
    "- init_file/\n",
    "  - init_file_noinit/\n",
    "    - \\_\\_init\\_\\_py\n",
    "    - add_int.py\n",
    "    - add_float.py\n",
    "  - init_file_init/\n",
    "    - \\_\\_init\\_\\_.py\n",
    "    - add_int.py\n",
    "    - add_float.py\n",
    "\n",
    "In [noinit](init_file_noinit/__init__.py) I did not include any information regarding the functions and in [init](init_file_init/__init__.py) I did include both functions. In the examples below, if I do not add anything to the \\_\\_init\\_\\_.py file, I would get error with the first method and I would need to call the specific file and import the function."
   ]
  },
  {
   "cell_type": "code",
   "execution_count": 1,
   "metadata": {},
   "outputs": [
    {
     "name": "stdout",
     "output_type": "stream",
     "text": [
      "'module' object is not callable\n"
     ]
    }
   ],
   "source": [
    "from init_file_noinit import add_int\n",
    "from init_file_noinit import add_float\n",
    "\n",
    "# I use a try except structure to avoid the crashing of the code\n",
    "try:\n",
    "    result = add_int(10, -2)\n",
    "    print(f\"Result {result}\")\n",
    "\n",
    "    result = add_float(12.5, -22.1)\n",
    "    print(f\"Result {result}\")\n",
    "except Exception as e:\n",
    "    print(e)"
   ]
  },
  {
   "cell_type": "code",
   "execution_count": 2,
   "metadata": {},
   "outputs": [
    {
     "name": "stdout",
     "output_type": "stream",
     "text": [
      "Result 8\n",
      "Result -9.600000000000001\n"
     ]
    }
   ],
   "source": [
    "from init_file_noinit.add_int import add_int\n",
    "from init_file_noinit.add_float import add_float\n",
    "\n",
    "result = add_int(10, -2)\n",
    "print(f\"Result {result}\")\n",
    "\n",
    "result = add_float(12.5, -22.1)\n",
    "print(f\"Result {result}\")"
   ]
  },
  {
   "cell_type": "markdown",
   "metadata": {},
   "source": [
    "The second example ([init](init_file_init/__init__.py)) I add the imports to the \\_\\_init\\_\\_.py file, therefore I do not need to call specific files for general purpose functions. I would only call specific files when I need those files."
   ]
  },
  {
   "cell_type": "code",
   "execution_count": 3,
   "metadata": {},
   "outputs": [],
   "source": [
    "from init_file_init import add_int\n",
    "from init_file_init import add_float\n",
    "\n",
    "result = add_int(10, -2)\n",
    "print(f\"Result {result}\")\n",
    "\n",
    "result = add_float(12.5, -22.1)\n",
    "print(f\"Result {result}\")"
   ]
  },
  {
   "cell_type": "markdown",
   "metadata": {},
   "source": [
    "We could even avoid importing mannually function by function and import everything that is inside the package. It is not very healthy to import packages this way, but it is not forbidden for small projects XD"
   ]
  },
  {
   "cell_type": "code",
   "execution_count": 4,
   "metadata": {},
   "outputs": [
    {
     "name": "stdout",
     "output_type": "stream",
     "text": [
      "Result 8\n",
      "Result -9.600000000000001\n"
     ]
    }
   ],
   "source": [
    "from init_file_init import *\n",
    "\n",
    "result = add_int(10, -2)\n",
    "print(f\"Result {result}\")\n",
    "\n",
    "result = add_float(12.5, -22.1)\n",
    "print(f\"Result {result}\")"
   ]
  }
 ],
 "metadata": {
  "kernelspec": {
   "display_name": "PQchem",
   "language": "python",
   "name": "python3"
  },
  "language_info": {
   "codemirror_mode": {
    "name": "ipython",
    "version": 3
   },
   "file_extension": ".py",
   "mimetype": "text/x-python",
   "name": "python",
   "nbconvert_exporter": "python",
   "pygments_lexer": "ipython3",
   "version": "3.10.12"
  }
 },
 "nbformat": 4,
 "nbformat_minor": 2
}
