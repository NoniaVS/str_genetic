{
 "cells": [
  {
   "cell_type": "markdown",
   "metadata": {},
   "source": [
    "# Classes vs Functions\n",
    "\n",
    "This is a very long discussion of how to implement and design the abstraction of the code. To put is simple, I usually use classes for everything __except__ for those utility functions that are common everywhere and are independent for everything else. "
   ]
  },
  {
   "cell_type": "markdown",
   "metadata": {},
   "source": [
    "In the first tutorial we talked about the _add\\_int_ function that was in a simple file. We could expand this logic to a file of mathematical functions. This file could be the container for many many mathematical expressions which are independent of everything else and only need the input information to return something.\n",
    "\n",
    "For example, I could have a math\\_utils.py file to collect all the expresion I need:\n",
    "\n",
    "- src/\n",
    "  - utils/\n",
    "    - \\_\\_init\\_\\_.py\n",
    "    - math\\_utils.py\n",
    "  - \\_\\_init\\_\\_.py\n",
    "\n",
    "and inside the file\n",
    "```python\n",
    "# Begin of file\n",
    "\n",
    "def add_int (a: int, b: int) -> int:\n",
    "    assert (type(a) == int and type(b) == int)\n",
    "    \n",
    "    return a + b\n",
    "\n",
    "def add_float (a: float, b: float) -> float:\n",
    "    assert (type(a) == float and type(b) == float)\n",
    "    \n",
    "    return a + b\n",
    "\n",
    "# End of file\n",
    "```\n",
    "\n",
    "This could be very usefull for those functions that are \"utilities\" and need to be called from many places but it does not make sence to be methods of a class. We could, however, containt these functions inside a __MathUtils__ class and it would equally possible to use the methods. But, this approach would require to initialize an object of this class globally or anywhere we need to use its functions."
   ]
  },
  {
   "cell_type": "markdown",
   "metadata": {},
   "source": [
    "All other methods and functions, should be part of an abstract class. There is no more examples as we will work on them with the __GeneticAlgorithm__ class.\n",
    "\n",
    "- Go to next Tutorial [genetic algorithm](2_genetic_algorithm.ipynb)"
   ]
  }
 ],
 "metadata": {
  "language_info": {
   "name": "python"
  }
 },
 "nbformat": 4,
 "nbformat_minor": 2
}
