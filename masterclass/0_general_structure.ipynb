{
 "cells": [
  {
   "cell_type": "markdown",
   "metadata": {},
   "source": [
    "# General Python Structure\n",
    "\n",
    "- str_genetic/\n",
    "    - src/\n",
    "        - crossovers/\n",
    "            - \\_\\_init\\_\\_.py\n",
    "            - one_point_crossover.py\n",
    "            - two_point_crossover.py\n",
    "        - fitness_functions/\n",
    "            - \\_\\_init\\_\\_.py\n",
    "            - sum_of_ones.py\n",
    "        - \\_\\_init\\_\\_.py\n",
    "        - genetic_algorithm.py\n",
    "        - population.py\n",
    "        - peasant.py\n",
    "    - test/\n",
    "        - _general samples_\n",
    "    - main.py\n",
    "\n",
    "This is an example of how I would structure the package. I will talk one by one of all directories and files inside each of them so we could get a good understanding of why this is a possible and good structure."
   ]
  },
  {
   "cell_type": "markdown",
   "metadata": {},
   "source": [
    "## main.py\n",
    "\n",
    "- _path: str_genetic/main.py_\n",
    "\n",
    "It is very important (if not compulsory) to always declare the\n",
    "```python:\n",
    "if __name__ == \"__main__\":\n",
    "```\n",
    "state in the files that will be executed from outside the package. In this package _main.py_ will be called from terminal, therefore I suggest the following structure of the file."
   ]
  },
  {
   "cell_type": "markdown",
   "metadata": {},
   "source": [
    "```python\n",
    "# main.py\n",
    "\n",
    "\"\"\"Input interal and external packages\"\"\"\n",
    "import os\n",
    "import numpy as np\n",
    "# ... Any other package ...\n",
    "\n",
    "\n",
    "if __name__ == \"__main__\":\n",
    "    # Do anything with the code\n",
    "```"
   ]
  },
  {
   "cell_type": "markdown",
   "metadata": {},
   "source": [
    "In order to get more info of why we use this declaration in external executions, you can find an example in [ifname_declaration](ifname_declaration/ifname_declaration.ipynb)"
   ]
  },
  {
   "cell_type": "markdown",
   "metadata": {},
   "source": [
    "## SRC directory\n",
    "\n",
    "This directory is where every function, script, package... must be located. There is no other place better than this to store all the code needed by you package to execute correctly. Every directory inside this directory should have the _\\_\\_init\\_\\_.py_ file."
   ]
  },
  {
   "cell_type": "markdown",
   "metadata": {},
   "source": [
    "\n",
    "### \\_\\_init\\_\\_.py file\n",
    "\n",
    "This file is the place where python will search for functions, class declarations, packages etc.. You can find more information regarding this file in [init_file](init_file/init_file.ipynb)."
   ]
  },
  {
   "cell_type": "markdown",
   "metadata": {},
   "source": [
    "### Class files in SRC directory\n",
    "\n",
    "As a general rule (if I remember correctly), all files in python should be lower case and words separated by '\\_'. Then, functions should follow the same pattern of lower case and words separated by '\\_' except for class names. Classes should be named (maybe this is just me) with the first letter of the words with upper case, the rest lower case and with no declaration.\n",
    "\n",
    "In the example of a generatic algorithm class, we should have a file called _genetic\\_algorithm.py_ and the class name _GeneticAlgorithm_. Again, this is what I think and I remember, but it is the standard way, each person has its own way of writting code."
   ]
  },
  {
   "cell_type": "markdown",
   "metadata": {},
   "source": [
    "- Go to next Tutorial [classes vs functions](1_classes_vs_functions.ipynb)"
   ]
  }
 ],
 "metadata": {
  "kernelspec": {
   "display_name": "PQchem",
   "language": "python",
   "name": "python3"
  },
  "language_info": {
   "codemirror_mode": {
    "name": "ipython",
    "version": 3
   },
   "file_extension": ".py",
   "mimetype": "text/x-python",
   "name": "python",
   "nbconvert_exporter": "python",
   "pygments_lexer": "ipython3",
   "version": "3.10.12"
  }
 },
 "nbformat": 4,
 "nbformat_minor": 2
}
